{
 "cells": [
  {
   "cell_type": "code",
   "execution_count": 196,
   "metadata": {},
   "outputs": [],
   "source": [
    "from sksurv.linear_model import CoxPHSurvivalAnalysis\n",
    "import numpy as np\n",
    "import pandas as pd\n",
    "import io\n",
    "import pkgutil\n",
    "import sys\n",
    "\n",
    "\n",
    "state=input(\"Enter state: \")\n",
    "\n",
    "def read_seer_csv(csv_file, drop_cols=None):\n",
    "    \"\"\"Helper function to load and preprocess the SEER dataset.\n",
    "\n",
    "    \"\"\"\n",
    "    data = pkgutil.get_data(__name__, csv_file)\n",
    "    data = pd.read_csv(io.BytesIO(data), low_memory=False)\n",
    "\n",
    "    if drop_cols is not None:\n",
    "        if 'Patient ID' in data.columns:\n",
    "            drop_cols.append('Patient ID')\n",
    "        data = data.drop(drop_cols, axis=1)\n",
    "    else:\n",
    "        if 'Patient ID' in data.columns:\n",
    "            drop_cols = ['Patient ID']\n",
    "            data.drop(drop_cols, axis=1, inplace=True)\n",
    "\n",
    "    return data\n",
    "\n",
    "x_er = read_seer_csv(f'datasets/ConditionalER_2_breast condition_{state}_modified.csv',drop_cols=['County','State'])\n",
    "\n",
    "\n",
    "\n"
   ]
  },
  {
   "attachments": {},
   "cell_type": "markdown",
   "metadata": {},
   "source": [
    "# t-Test"
   ]
  },
  {
   "cell_type": "code",
   "execution_count": null,
   "metadata": {},
   "outputs": [],
   "source": [
    "ds_collection_er = {}\n",
    "ds_collection_er_2 = {}\n",
    "import random\n",
    "for i in range(30):\n",
    "    ds_collection_er[i] = x_er.sample(n=int(((len(x_er.index)-1)/200)),random_state=random.randint(1,500))\n",
    "    ds_collection_er_2[i] = ds_collection_er[i].copy()\n",
    "\n",
    "ds_collection_er_2[0].info()"
   ]
  },
  {
   "cell_type": "code",
   "execution_count": 198,
   "metadata": {},
   "outputs": [],
   "source": [
    "ds_collection = {}\n",
    "for i in range(30):\n",
    "    ds_collection[i] = ds_collection_er[i].drop(['ER_CondPr','RepSrc'], axis=1)"
   ]
  },
  {
   "cell_type": "code",
   "execution_count": 199,
   "metadata": {},
   "outputs": [],
   "source": [
    "y_collection = {}\n",
    "ds_one_h_collection = {}\n",
    "\n",
    "\n",
    "\n",
    "for i in range(30):\n",
    "    ds_collection[i].dropna(inplace=True)\n",
    "    col_event = ds_collection[i]['death'].map({0: False, 1: True})\n",
    "    col_time = ds_collection[i]['d.time']\n",
    "    y_collection[i] = np.empty(dtype=[('col_event', bool),\n",
    "                    ('col_time', np.float64)], shape=ds_collection[i].shape[0])\n",
    "\n",
    "    y_collection[i]['col_event'] = col_event.values\n",
    "    y_collection[i]['col_time'] = col_time.values\n",
    "\n",
    "  \n",
    "    ds_collection[i].drop(['d.time', 'death'], axis=1, inplace=True)\n",
    "\n",
    "    ds_one_h_collection[i] = pd.get_dummies(ds_collection[i])\n",
    "    #ds_one_h_collection_2[i] = pd.get_dummies(ds_collection_2[i])"
   ]
  },
  {
   "cell_type": "code",
   "execution_count": null,
   "metadata": {},
   "outputs": [],
   "source": [
    "\n",
    "estimator1 = CoxPHSurvivalAnalysis(alpha=10).fit(ds_one_h_collection[1],y_collection[1])\n",
    "print(estimator1.score(ds_one_h_collection[1],y_collection[1]))\n",
    "\n",
    "\n",
    "estimator2 = CoxPHSurvivalAnalysis(alpha=10).fit(ds_one_h_collection[2],y_collection[2])\n",
    "print(estimator2.score(ds_one_h_collection[2],y_collection[2]))"
   ]
  },
  {
   "cell_type": "code",
   "execution_count": 201,
   "metadata": {},
   "outputs": [],
   "source": [
    "estimator_collection = {}\n",
    "score_collection = {}\n",
    "for i in range(30):\n",
    "    #print(i,end=' ')\n",
    "    estimator_collection[i] = CoxPHSurvivalAnalysis(alpha=10).fit(ds_one_h_collection[i],y_collection[i])\n",
    "    score_collection[i] = estimator_collection[i].score(ds_one_h_collection[i],y_collection[i])\n",
    "    #print(score_collection[i])\n"
   ]
  },
  {
   "cell_type": "code",
   "execution_count": null,
   "metadata": {},
   "outputs": [],
   "source": [
    "df = pd.DataFrame(list(score_collection.items()),columns=['index','score'])\n",
    "df.head()"
   ]
  },
  {
   "attachments": {},
   "cell_type": "markdown",
   "metadata": {},
   "source": [
    "# t-test with StateESR"
   ]
  },
  {
   "cell_type": "code",
   "execution_count": null,
   "metadata": {},
   "outputs": [],
   "source": [
    "ds_collection_er_2[1].info()"
   ]
  },
  {
   "cell_type": "code",
   "execution_count": 204,
   "metadata": {},
   "outputs": [],
   "source": [
    "y_collection_er = {}\n",
    "ds_one_h_collection_er = {}\n",
    "ds_one_h_collection_er_2 = {}\n",
    "for i in range(30):\n",
    "    ds_collection_er[i].dropna(inplace=True)\n",
    "    col_event = ds_collection_er[i]['death'].map({0: False, 1: True})\n",
    "    col_time = ds_collection_er[i]['d.time']\n",
    "    y_collection_er[i] = np.empty(dtype=[('col_event', bool),\n",
    "                    ('col_time', np.float64)], shape=ds_collection_er[i].shape[0])\n",
    "\n",
    "    y_collection_er[i]['col_event'] = col_event.values\n",
    "    y_collection_er[i]['col_time'] = col_time.values\n",
    "\n",
    "  \n",
    "    ds_collection_er[i].drop(['d.time', 'death'], axis=1, inplace=True)\n",
    "    \n",
    "    ds_one_h_collection_er[i] = pd.get_dummies(ds_collection_er[i])\n",
    "    ds_one_h_collection_er_2[i] = pd.get_dummies(ds_collection_er_2[i])"
   ]
  },
  {
   "cell_type": "code",
   "execution_count": null,
   "metadata": {},
   "outputs": [],
   "source": [
    "\n",
    "estimator1 = CoxPHSurvivalAnalysis(alpha=10).fit(ds_one_h_collection_er[1],y_collection_er[1])\n",
    "print(estimator1.score(ds_one_h_collection_er[1],y_collection_er[1]))\n",
    "\n",
    "estimator2 = CoxPHSurvivalAnalysis(alpha=10).fit(ds_one_h_collection_er[2],y_collection_er[2])\n",
    "print(estimator2.score(ds_one_h_collection_er[2],y_collection_er[2]))"
   ]
  },
  {
   "cell_type": "code",
   "execution_count": 207,
   "metadata": {},
   "outputs": [],
   "source": [
    "estimator_collection_er = {}\n",
    "score_collection_er = {}\n",
    "for i in range(30):\n",
    "    #print(i,end=' ')\n",
    "    estimator_collection_er[i] = CoxPHSurvivalAnalysis(alpha=10).fit(ds_one_h_collection_er[i],y_collection_er[i])\n",
    "    score_collection_er[i] = estimator_collection_er[i].score(ds_one_h_collection_er[i],y_collection_er[i])\n",
    "    #print(score_collection_er[i])\n"
   ]
  },
  {
   "cell_type": "code",
   "execution_count": null,
   "metadata": {},
   "outputs": [],
   "source": [
    "df_er = pd.DataFrame(list(score_collection_er.items()),columns=['index','score_er'])\n",
    "df_er.head()"
   ]
  },
  {
   "cell_type": "code",
   "execution_count": 209,
   "metadata": {},
   "outputs": [],
   "source": [
    "df_eval = pd.merge(df,df_er,on='index')\n",
    "df_eval.drop(['index'],axis=1,inplace=True)\n",
    "df_eval.head()\n",
    "df_eval.to_csv(f't-Test Results/eval_results_{state}.csv')"
   ]
  },
  {
   "cell_type": "code",
   "execution_count": null,
   "metadata": {},
   "outputs": [],
   "source": [
    "df_eval['score_diff'] = df_eval['score_er'] - df_eval['score']\n",
    "df_eval['score_diff'] = df_eval['score_diff'].abs()\n",
    "print(\"Lo\",df_eval['score_diff'].min())\n",
    "print(\"Hi\",df_eval['score_diff'].max())"
   ]
  },
  {
   "cell_type": "code",
   "execution_count": 318,
   "metadata": {},
   "outputs": [],
   "source": [
    "from scipy.stats import ttest_rel\n",
    "statistic, pvalue = ttest_rel(df_eval['score'],df_eval['score_er'])\n",
    "\n",
    "\n",
    "import csv\n",
    "with open('t-Test Results/ttest_result.csv', 'a') as csvfile:\n",
    "    writer = csv.writer(csvfile)\n",
    "    writer.writerow([state,statistic,pvalue])"
   ]
  }
 ],
 "metadata": {
  "kernelspec": {
   "display_name": "Python 3.10.6 64-bit",
   "language": "python",
   "name": "python3"
  },
  "language_info": {
   "codemirror_mode": {
    "name": "ipython",
    "version": 3
   },
   "file_extension": ".py",
   "mimetype": "text/x-python",
   "name": "python",
   "nbconvert_exporter": "python",
   "pygments_lexer": "ipython3",
   "version": "3.10.6"
  },
  "orig_nbformat": 4,
  "vscode": {
   "interpreter": {
    "hash": "aee8b7b246df8f9039afb4144a1f6fd8d2ca17a180786b69acc140d282b71a49"
   }
  }
 },
 "nbformat": 4,
 "nbformat_minor": 2
}
